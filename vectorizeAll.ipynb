{
 "cells": [
  {
   "cell_type": "code",
   "execution_count": 1,
   "metadata": {},
   "outputs": [
    {
     "name": "stdout",
     "output_type": "stream",
     "text": [
      "Populating the interactive namespace from numpy and matplotlib\n",
      "env: XLA_PYTHON_CLIENT_ALLOCATOR=platform\n"
     ]
    },
    {
     "data": {
      "text/plain": [
       "<contextlib._GeneratorContextManager at 0x7fc47c5cfa90>"
      ]
     },
     "execution_count": 1,
     "metadata": {},
     "output_type": "execute_result"
    }
   ],
   "source": [
    "%pylab inline\n",
    "%env XLA_PYTHON_CLIENT_ALLOCATOR=platform\n",
    "from jax.scipy import ndimage\n",
    "from constant import * \n",
    "from multiprocessing import Pool\n",
    "from functools import partial\n",
    "import warnings\n",
    "import jax.numpy as jnp\n",
    "from jax import jit\n",
    "warnings.filterwarnings(\"ignore\")\n",
    "np.printoptions(precision=2)"
   ]
  },
  {
   "cell_type": "markdown",
   "metadata": {},
   "source": [
    "### Value iteration of renting a house\n",
    "\n",
    "$$V_t(w_t, s_t) = max_{\\{c_t, h_t, b_t, k_t\\}}\\{ u(c_t, h_t) + \\beta E[P_t V_{t+1}(w_{t+1}, s_{t+1}) + (1-P_t) u_B(w_{t+1})]\\}$$\n",
    "Subject to:    \n",
    "$$y_t + w_t = c_t + P_t^r h_t + b_t + k_t$$\n",
    "$$ w_{t+1} = (1+r_t^f) b_t + (1+r_{t+1}^m) k_t $$    \n",
    "\n",
    "Shape of the state: $$(100  \\times 27)$$\n",
    "Shape of the actions: $$(20 \\times 20 \\times 20)$$"
   ]
  },
  {
   "cell_type": "code",
   "execution_count": 2,
   "metadata": {},
   "outputs": [
    {
     "data": {
      "text/plain": [
       "(2700, 2)"
      ]
     },
     "execution_count": 2,
     "metadata": {},
     "output_type": "execute_result"
    }
   ],
   "source": [
    "nX = Xs.shape[0]\n",
    "Xs.shape"
   ]
  },
  {
   "cell_type": "code",
   "execution_count": 3,
   "metadata": {},
   "outputs": [
    {
     "data": {
      "text/plain": [
       "(6400, 2)"
      ]
     },
     "execution_count": 3,
     "metadata": {},
     "output_type": "execute_result"
    }
   ],
   "source": [
    "nA = As.shape[0]\n",
    "As.shape"
   ]
  },
  {
   "cell_type": "code",
   "execution_count": 4,
   "metadata": {},
   "outputs": [],
   "source": [
    "X = jnp.repeat(Xs, nA, axis = 0)\n",
    "A = jnp.tile(As, (nX,1))"
   ]
  },
  {
   "cell_type": "code",
   "execution_count": 5,
   "metadata": {},
   "outputs": [
    {
     "data": {
      "text/plain": [
       "(17280000, 2)"
      ]
     },
     "execution_count": 5,
     "metadata": {},
     "output_type": "execute_result"
    }
   ],
   "source": [
    "A.shape"
   ]
  },
  {
   "cell_type": "code",
   "execution_count": 6,
   "metadata": {},
   "outputs": [
    {
     "data": {
      "text/plain": [
       "(17280000, 2)"
      ]
     },
     "execution_count": 6,
     "metadata": {},
     "output_type": "execute_result"
    }
   ],
   "source": [
    "X.shape"
   ]
  },
  {
   "cell_type": "code",
   "execution_count": 7,
   "metadata": {},
   "outputs": [],
   "source": [
    "#Define the utility function\n",
    "@jit\n",
    "def u(c):\n",
    "    return (jnp.power(c, 1-gamma) - 1)/(1 - gamma)\n",
    "\n",
    "#Define the bequeath function, which is a function of wealth\n",
    "@jit\n",
    "def uB(tb):\n",
    "    return B*u(tb)\n",
    "\n",
    "#Reward function for renting\n",
    "@jit\n",
    "def u_rent(a):\n",
    "    '''\n",
    "    Input:\n",
    "        action a: c, b, k, h = a\n",
    "    Output:\n",
    "        reward value: the length of return should be equal to the length of a\n",
    "    '''\n",
    "    c = a[:,0]\n",
    "    h = a[:,3]\n",
    "    C = jnp.power(c, alpha) * jnp.power(h, 1-alpha)\n",
    "    return u(C)\n",
    "@jit\n",
    "def transition_to_rent(x,a,t):\n",
    "    '''\n",
    "        imput: a is np array constains all possible actions \n",
    "        output: from x = w_t to x = w_{t+1}\n",
    "    '''\n",
    "    s = jnp.array(x[:,1], dtype = jnp.int16)\n",
    "    # actions taken \n",
    "    b = a[:,1]\n",
    "    k = a[:,2]\n",
    "    x_next0 = ((1+r_b[s])*b + jnp.outer(k,(1+r_k)).T).T.flatten()\n",
    "    x_next1 = jnp.tile(jnp.arange(nS),nA*nX)\n",
    "    prob_next = Ps[s].flatten()\n",
    "    return jnp.column_stack((x_next0,x_next1)), prob_next\n",
    "    \n",
    "# used to calculate dot product\n",
    "@jit\n",
    "def dotProduct(p_next, uBTB, t):\n",
    "    return (p_next*uBTB).reshape((p_next.shape[0]//(nS), (nS))).sum(axis = 1)"
   ]
  },
  {
   "cell_type": "markdown",
   "metadata": {},
   "source": [
    "$$V_t(w_t, s_t) = max_{\\{c_t, h_t, b_t, k_t\\}}\\{ u(c_t, h_t) + \\beta E[P_t V_{t+1}(w_{t+1}, s_{t+1}) + (1-P_t) u_B(w_{t+1})]\\}$$"
   ]
  },
  {
   "cell_type": "code",
   "execution_count": 8,
   "metadata": {},
   "outputs": [
    {
     "name": "stdout",
     "output_type": "stream",
     "text": [
      "59\n",
      "58\n",
      "57\n",
      "56\n",
      "55\n",
      "54\n",
      "53\n",
      "52\n",
      "51\n",
      "50\n",
      "49\n",
      "48\n",
      "47\n",
      "46\n",
      "45\n",
      "44\n",
      "43\n",
      "42\n",
      "41\n",
      "40\n",
      "39\n",
      "38\n",
      "37\n",
      "36\n",
      "35\n",
      "34\n",
      "33\n",
      "32\n",
      "31\n",
      "30\n",
      "29\n",
      "28\n",
      "27\n",
      "26\n",
      "25\n",
      "24\n",
      "23\n",
      "22\n",
      "21\n",
      "20\n",
      "19\n",
      "18\n",
      "17\n",
      "16\n",
      "15\n",
      "14\n",
      "13\n",
      "12\n",
      "11\n",
      "10\n",
      "9\n",
      "8\n",
      "7\n",
      "6\n",
      "5\n",
      "4\n",
      "3\n",
      "2\n",
      "1\n",
      "CPU times: user 10.8 s, sys: 21.3 s, total: 32.2 s\n",
      "Wall time: 1min\n"
     ]
    }
   ],
   "source": [
    "%%time\n",
    "for t in range(T_max-1,T_min, -1):\n",
    "    print(t)\n",
    "    # x = [w,s], a = [c,b,k,h]\n",
    "    yat = detEarning[t]\n",
    "    budget1 = yat + X[:,0]\n",
    "#     h = budget1*A[:,0]/pr\n",
    "#     budget2 = budget1*(1-A[:,0])\n",
    "#     c = budget2*A[:,1]\n",
    "#     budget3 = budget2*(1-A[:,1])\n",
    "#     k = budget3*A[:,2]\n",
    "#     b = budget3*(1-A[:,2])\n",
    "    h = budget1*A[:,0]*0.3/pr\n",
    "    c = budget1*A[:,0]*0.7\n",
    "    budget2 = budget1*(1-A[:,0])\n",
    "    k = budget2*A[:,1]\n",
    "    b = budget2*(1-A[:,1])\n",
    "    actions = jnp.column_stack((c,b,k,h))\n",
    "    # if right before the terminal state \n",
    "    if t == T_max - 1:\n",
    "        x_next, prob_next = transition_to_rent(X,actions,t)\n",
    "        Q = u_rent(actions) + beta * dotProduct(prob_next, uB(x_next[:,0]),t)\n",
    "        V = Q.reshape(nX,nA).max(axis = 1)\n",
    "        cbkh = actions[:nA][Q.reshape(nX,nA).argmax(axis = 1)]\n",
    "    else:\n",
    "        x_next, prob_next = transition_to_rent(X,actions,t)\n",
    "        Q = u_rent(actions) + beta * dotProduct(prob_next, Pa[t] * \n",
    "                                                ndimage.map_coordinates(V.reshape(dim),x_next.T/10, order = 1, mode = 'nearest') \n",
    "                                                + (1-Pa[t]) * uB(x_next[:,0]), t)\n",
    "        V = Q.reshape(nX,nA).max(axis = 1)\n",
    "        cbkh = actions[:nA][Q.reshape(nX,nA).argmax(axis = 1)]\n",
    "        \n",
    "    Vgrid[:,:,t] = V.reshape(dim)\n",
    "    cgrid[:,:,t] = cbkh[:,0].reshape(dim)\n",
    "    bgrid[:,:,t] = cbkh[:,1].reshape(dim)\n",
    "    kgrid[:,:,t] = cbkh[:,2].reshape(dim)\n",
    "    hgrid[:,:,t] = cbkh[:,3].reshape(dim)"
   ]
  },
  {
   "cell_type": "code",
   "execution_count": 19,
   "metadata": {},
   "outputs": [
    {
     "data": {
      "text/plain": [
       "<matplotlib.legend.Legend at 0x7fc45fa18fd0>"
      ]
     },
     "execution_count": 19,
     "metadata": {},
     "output_type": "execute_result"
    },
    {
     "data": {
      "image/png": "[encoded data removed]",
      "text/plain": [
       "<Figure size 864x432 with 1 Axes>"
      ]
     },
     "metadata": {
      "needs_background": "light"
     },
     "output_type": "display_data"
    }
   ],
   "source": [
    "# plot consumption against time \n",
    "wealthLevel = 60\n",
    "econState = 20\n",
    "plt.figure(figsize = [12,6])\n",
    "plt.plot(cgrid[wealthLevel,econState,:], label = \"consumption\")\n",
    "plt.plot(bgrid[wealthLevel,econState,:], label = \"bond\")\n",
    "plt.plot(kgrid[wealthLevel,econState,:], label = \"stock\")\n",
    "plt.plot(hgrid[wealthLevel,econState,:]*pr, label = \"housing\")\n",
    "legend()"
   ]
  },
  {
   "cell_type": "code",
   "execution_count": 20,
   "metadata": {},
   "outputs": [],
   "source": [
    "np.save('cgrid',cgrid)\n",
    "np.save('bgrid',bgrid)\n",
    "np.save('kgrid',kgrid)\n",
    "np.save('hgrid',hgrid)"
   ]
  }
 ],
 "metadata": {
  "kernelspec": {
   "display_name": "Python 3",
   "language": "python",
   "name": "python3"
  },
  "language_info": {
   "codemirror_mode": {
    "name": "ipython",
    "version": 3
   },
   "file_extension": ".py",
   "mimetype": "text/x-python",
   "name": "python",
   "nbconvert_exporter": "python",
   "pygments_lexer": "ipython3",
   "version": "3.7.9"
  }
 },
 "nbformat": 4,
 "nbformat_minor": 4
}
