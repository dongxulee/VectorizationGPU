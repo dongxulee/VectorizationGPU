{
 "cells": [
  {
   "cell_type": "code",
   "execution_count": 1,
   "metadata": {},
   "outputs": [
    {
     "name": "stdout",
     "output_type": "stream",
     "text": [
      "Populating the interactive namespace from numpy and matplotlib\n",
      "env: XLA_PYTHON_CLIENT_ALLOCATOR=platform\n"
     ]
    },
    {
     "data": {
      "text/plain": [
       "<contextlib._GeneratorContextManager at 0x7f88c4200690>"
      ]
     },
     "execution_count": 1,
     "metadata": {},
     "output_type": "execute_result"
    }
   ],
   "source": [
    "%pylab inline\n",
    "%env XLA_PYTHON_CLIENT_ALLOCATOR=platform\n",
    "from jax.scipy.ndimage import map_coordinates\n",
    "from constant import * \n",
    "import warnings\n",
    "from jax import jit, partial\n",
    "warnings.filterwarnings(\"ignore\")\n",
    "np.printoptions(precision=2)"
   ]
  },
  {
   "cell_type": "code",
   "execution_count": 2,
   "metadata": {},
   "outputs": [],
   "source": [
    "cgrid = np.load(\"cgrid.npy\")\n",
    "bgrid = np.load(\"bgrid.npy\")\n",
    "kgrid = np.load(\"kgrid.npy\")\n",
    "hgrid = np.load(\"hgrid.npy\")"
   ]
  },
  {
   "cell_type": "code",
   "execution_count": 3,
   "metadata": {},
   "outputs": [],
   "source": [
    "# define approximation of fit\n",
    "\n",
    "def actions(w, n, s, t):\n",
    "    c = map_coordinates(cgrid[:,:,:,t],np.vstack((w/scale,n/scale,s)), order = 1, mode = 'nearest')\n",
    "    b = map_coordinates(bgrid[:,:,:,t],np.vstack((w/scale,n/scale,s)), order = 1, mode = 'nearest')\n",
    "    k = map_coordinates(kgrid[:,:,:,t],np.vstack((w/scale,n/scale,s)), order = 1, mode = 'nearest')\n",
    "    h = map_coordinates(hgrid[:,:,:,t],np.vstack((w/scale,n/scale,s)), order = 1, mode = 'nearest')\n",
    "    return c,b,k,h\n",
    "      \n",
    "@jit    \n",
    "def transition(b,k,s,s_next):\n",
    "    return b*(1+r_b[s]) + k*(1+r_k[s_next])\n",
    "\n",
    "#Define the earning function, which applies for both employment, 27 states\n",
    "@partial(jit, static_argnums=(0,)) \n",
    "def y(t, s):\n",
    "    if t <= T_R:\n",
    "        return detEarning[t] * (1+gGDP[jnp.array(s, dtype = jnp.int16)])\n",
    "    else:\n",
    "        return detEarning[t] * jnp.ones(len(s))\n",
    "    \n",
    "#Define the evolution of the amount in 401k account \n",
    "@partial(jit, static_argnums=(0,)) \n",
    "def gn(t, s, s_next, n):\n",
    "    if t <= T_R:\n",
    "        # if the person is employed, then yi portion of his income goes into 401k \n",
    "        n_cur = n + y(t, s) * yi\n",
    "    else:\n",
    "        # t > T_R, n/discounting amount will be withdraw from the 401k \n",
    "        n_cur = n  - n/Dt[t]\n",
    "        # the 401 grow as the same rate as the stock \n",
    "    return (1+(r_b[s]+r_k[s_next])/2)*n_cur"
   ]
  },
  {
   "cell_type": "code",
   "execution_count": 4,
   "metadata": {},
   "outputs": [],
   "source": [
    "import quantecon as qe\n",
    "#number of economy\n",
    "num = 500000\n",
    "# markov chain used to generate economic states\n",
    "mc = qe.MarkovChain(Ps)\n",
    "econState = np.array([mc.simulate(ts_length=T_max - T_min, init=0) for _ in range(num)])"
   ]
  },
  {
   "cell_type": "code",
   "execution_count": null,
   "metadata": {},
   "outputs": [],
   "source": [
    "#initially with 5k wealth\n",
    "w = np.ones(num)*5\n",
    "n = np.zeros(num)\n",
    "ws = np.zeros((T_max-T_min,num))\n",
    "ns = np.zeros((T_max-T_min,num))\n",
    "cs = np.zeros((T_max-T_min,num))\n",
    "bs = np.zeros((T_max-T_min,num))\n",
    "ks = np.zeros((T_max-T_min,num))\n",
    "hs = np.zeros((T_max-T_min,num))\n",
    "for t in range(T_max-T_min-1):\n",
    "    s = econState[:,t]\n",
    "    s_next = econState[:,t+1]\n",
    "    c,b,k,h = actions(w,n,s, t)\n",
    "    ws[t,:] = w\n",
    "    ns[t,:] = n\n",
    "    cs[t,:] = c\n",
    "    bs[t,:] = b\n",
    "    ks[t,:] = k\n",
    "    hs[t,:] = h\n",
    "    w = transition(b,k,s,s_next)\n",
    "    n = gn(t, s, s_next, n)"
   ]
  },
  {
   "cell_type": "code",
   "execution_count": null,
   "metadata": {
    "scrolled": false
   },
   "outputs": [],
   "source": [
    "plt.figure(figsize = [16,8])\n",
    "plt.plot(ws.mean(axis = 1)[:-1], label = \"wealth\")\n",
    "plt.plot(cs.mean(axis = 1)[:-1], label = \"consumption\")\n",
    "plt.plot(bs.mean(axis = 1)[:-1], label = \"bond\")\n",
    "plt.plot(ks.mean(axis = 1)[:-1], label = \"stock\")\n",
    "plt.plot((hs*pr).mean(axis = 1)[:-1], label = \"housing\")\n",
    "plt.legend()"
   ]
  },
  {
   "cell_type": "code",
   "execution_count": null,
   "metadata": {},
   "outputs": [],
   "source": [
    "plt.plot(ns.mean(axis = 1)[:-1], label = \"401k\")"
   ]
  },
  {
   "cell_type": "code",
   "execution_count": null,
   "metadata": {},
   "outputs": [],
   "source": [
    "yi"
   ]
  },
  {
   "cell_type": "code",
   "execution_count": null,
   "metadata": {},
   "outputs": [],
   "source": []
  }
 ],
 "metadata": {
  "kernelspec": {
   "display_name": "Python 3",
   "language": "python",
   "name": "python3"
  },
  "language_info": {
   "codemirror_mode": {
    "name": "ipython",
    "version": 3
   },
   "file_extension": ".py",
   "mimetype": "text/x-python",
   "name": "python",
   "nbconvert_exporter": "python",
   "pygments_lexer": "ipython3",
   "version": "3.7.9"
  }
 },
 "nbformat": 4,
 "nbformat_minor": 4
}
