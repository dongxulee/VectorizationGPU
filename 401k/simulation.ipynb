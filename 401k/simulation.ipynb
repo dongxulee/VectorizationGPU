{
 "cells": [
  {
   "cell_type": "code",
   "execution_count": 1,
   "metadata": {},
   "outputs": [
    {
     "name": "stdout",
     "output_type": "stream",
     "text": [
      "Populating the interactive namespace from numpy and matplotlib\n",
      "env: XLA_PYTHON_CLIENT_ALLOCATOR=platform\n"
     ]
    },
    {
     "data": {
      "text/plain": [
       "<contextlib._GeneratorContextManager at 0x7fa9ab3332d0>"
      ]
     },
     "execution_count": 1,
     "metadata": {},
     "output_type": "execute_result"
    }
   ],
   "source": [
    "%pylab inline\n",
    "%env XLA_PYTHON_CLIENT_ALLOCATOR=platform\n",
    "from jax.scipy.ndimage import map_coordinates\n",
    "from constant import * \n",
    "import warnings\n",
    "from jax import jit, partial\n",
    "warnings.filterwarnings(\"ignore\")\n",
    "np.printoptions(precision=2)"
   ]
  },
  {
   "cell_type": "code",
   "execution_count": 2,
   "metadata": {},
   "outputs": [],
   "source": [
    "cgrid = np.load(\"cgrid.npy\")\n",
    "bgrid = np.load(\"bgrid.npy\")\n",
    "kgrid = np.load(\"kgrid.npy\")\n",
    "hgrid = np.load(\"hgrid.npy\")"
   ]
  },
  {
   "cell_type": "code",
   "execution_count": 3,
   "metadata": {},
   "outputs": [],
   "source": [
    "# define approximation of fit\n",
    "def actions(w, n, s, e, t):\n",
    "    c = map_coordinates(cgrid[:,:,:,:,t],np.vstack((w/scale,n/scale,s,e)), order = 1, mode = 'nearest')\n",
    "    b = map_coordinates(bgrid[:,:,:,:,t],np.vstack((w/scale,n/scale,s,e)), order = 1, mode = 'nearest')\n",
    "    k = map_coordinates(kgrid[:,:,:,:,t],np.vstack((w/scale,n/scale,s,e)), order = 1, mode = 'nearest')\n",
    "    h = map_coordinates(hgrid[:,:,:,:,t],np.vstack((w/scale,n/scale,s,e)), order = 1, mode = 'nearest')\n",
    "    return c,b,k,h\n",
    "      \n",
    "@jit    \n",
    "def transition(b,k,s,s_next):\n",
    "    return b*(1+r_b[s]) + k*(1+r_k[s_next])\n",
    "\n",
    "#Define the earning function, which applies for both employment, 27 states\n",
    "@partial(jit, static_argnums=(0,)) \n",
    "def y(t, x):\n",
    "    if t <= T_R:\n",
    "        return detEarning[t] * (1+gGDP[jnp.array(x[:,2], dtype = jnp.int8)]) * x[:,3] + (1-x[:,3]) * welfare\n",
    "    else:\n",
    "        return detEarning[t] * jnp.ones(X.shape[0])\n",
    "    \n",
    "#Earning after tax and fixed by transaction in and out from 401k account \n",
    "@partial(jit, static_argnums=(0,)) \n",
    "def yAT(t,x):\n",
    "    yt = y(t, x)  \n",
    "    if t <= T_R:\n",
    "        # yi portion of the income will be put into the 401k if employed\n",
    "        return (1-tau_L)*(yt * (1-yi))*x[:,3] + (1-x[:,3])*yt\n",
    "    else:\n",
    "        # t > T_R, n/discounting amount will be withdraw from the 401k \n",
    "        return (1-tau_R)*yt + x[:,1]/Dt[t]\n",
    "    \n",
    "#Define the evolution of the amount in 401k account \n",
    "@partial(jit, static_argnums=(0,)) \n",
    "def gn(t, x, r):\n",
    "    if t <= T_R:\n",
    "        # if the person is employed, then yi portion of his income goes into 401k \n",
    "        n_cur = x[:,1] + y(t, x) * yi * x[:,3]\n",
    "    else:\n",
    "        # t > T_R, n/discounting amount will be withdraw from the 401k \n",
    "        n_cur = x[:,1]  - x[:,1]/Dt[t]\n",
    "        # the 401 grow as the same rate as the stock \n",
    "    return (1+r)*n_cur"
   ]
  },
  {
   "cell_type": "code",
   "execution_count": 4,
   "metadata": {},
   "outputs": [],
   "source": [
    "import quantecon as qe\n",
    "#number of economy\n",
    "num = 500000\n",
    "# markov chain used to generate economic states\n",
    "mc = qe.MarkovChain(Ps)\n",
    "econState = np.array([mc.simulate(ts_length=T_max - T_min, init=0) for _ in range(num)])"
   ]
  },
  {
   "cell_type": "code",
   "execution_count": 5,
   "metadata": {},
   "outputs": [
    {
     "ename": "TypeError",
     "evalue": "actions() missing 1 required positional argument: 't'",
     "output_type": "error",
     "traceback": [
      "\u001b[0;31m---------------------------------------------------------------------------\u001b[0m",
      "\u001b[0;31mTypeError\u001b[0m                                 Traceback (most recent call last)",
      "\u001b[0;32m<ipython-input-5-be1bffdeb9cd>\u001b[0m in \u001b[0;36m<module>\u001b[0;34m\u001b[0m\n\u001b[1;32m     12\u001b[0m     \u001b[0ms\u001b[0m \u001b[0;34m=\u001b[0m \u001b[0meconState\u001b[0m\u001b[0;34m[\u001b[0m\u001b[0;34m:\u001b[0m\u001b[0;34m,\u001b[0m\u001b[0mt\u001b[0m\u001b[0;34m]\u001b[0m\u001b[0;34m\u001b[0m\u001b[0;34m\u001b[0m\u001b[0m\n\u001b[1;32m     13\u001b[0m     \u001b[0ms_next\u001b[0m \u001b[0;34m=\u001b[0m \u001b[0meconState\u001b[0m\u001b[0;34m[\u001b[0m\u001b[0;34m:\u001b[0m\u001b[0;34m,\u001b[0m\u001b[0mt\u001b[0m\u001b[0;34m+\u001b[0m\u001b[0;36m1\u001b[0m\u001b[0;34m]\u001b[0m\u001b[0;34m\u001b[0m\u001b[0;34m\u001b[0m\u001b[0m\n\u001b[0;32m---> 14\u001b[0;31m     \u001b[0mc\u001b[0m\u001b[0;34m,\u001b[0m\u001b[0mb\u001b[0m\u001b[0;34m,\u001b[0m\u001b[0mk\u001b[0m\u001b[0;34m,\u001b[0m\u001b[0mh\u001b[0m \u001b[0;34m=\u001b[0m \u001b[0mactions\u001b[0m\u001b[0;34m(\u001b[0m\u001b[0mw\u001b[0m\u001b[0;34m,\u001b[0m\u001b[0mn\u001b[0m\u001b[0;34m,\u001b[0m\u001b[0ms\u001b[0m\u001b[0;34m,\u001b[0m\u001b[0mt\u001b[0m\u001b[0;34m)\u001b[0m\u001b[0;34m\u001b[0m\u001b[0;34m\u001b[0m\u001b[0m\n\u001b[0m\u001b[1;32m     15\u001b[0m     \u001b[0mws\u001b[0m\u001b[0;34m[\u001b[0m\u001b[0mt\u001b[0m\u001b[0;34m,\u001b[0m\u001b[0;34m:\u001b[0m\u001b[0;34m]\u001b[0m \u001b[0;34m=\u001b[0m \u001b[0mw\u001b[0m\u001b[0;34m\u001b[0m\u001b[0;34m\u001b[0m\u001b[0m\n\u001b[1;32m     16\u001b[0m     \u001b[0mns\u001b[0m\u001b[0;34m[\u001b[0m\u001b[0mt\u001b[0m\u001b[0;34m,\u001b[0m\u001b[0;34m:\u001b[0m\u001b[0;34m]\u001b[0m \u001b[0;34m=\u001b[0m \u001b[0mn\u001b[0m\u001b[0;34m\u001b[0m\u001b[0;34m\u001b[0m\u001b[0m\n",
      "\u001b[0;31mTypeError\u001b[0m: actions() missing 1 required positional argument: 't'"
     ]
    }
   ],
   "source": [
    "#initially with 5k wealth\n",
    "w = np.ones(num)*5\n",
    "n = np.zeros(num)\n",
    "e = np.ones(num,dtype = int8)\n",
    "ws = np.zeros((T_max-T_min,num))\n",
    "ns = np.zeros((T_max-T_min,num))\n",
    "cs = np.zeros((T_max-T_min,num))\n",
    "bs = np.zeros((T_max-T_min,num))\n",
    "ks = np.zeros((T_max-T_min,num))\n",
    "hs = np.zeros((T_max-T_min,num))\n",
    "for t in range(T_max-T_min-1):\n",
    "    s = econState[:,t]\n",
    "    s_next = econState[:,t+1]\n",
    "    c,b,k,h = actions(w,n,s,t)\n",
    "    ws[t,:] = w\n",
    "    ns[t,:] = n\n",
    "    cs[t,:] = c\n",
    "    bs[t,:] = b\n",
    "    ks[t,:] = k\n",
    "    hs[t,:] = h\n",
    "    w = transition(b,k,s,s_next)\n",
    "    n = gn(t, s, s_next, n)"
   ]
  },
  {
   "cell_type": "code",
   "execution_count": null,
   "metadata": {},
   "outputs": [],
   "source": [
    "plt.figure(figsize = [16,8])\n",
    "plt.plot(ws.mean(axis = 1)[:-1], label = \"wealth\")\n",
    "plt.plot(cs.mean(axis = 1)[:-1], label = \"consumption\")\n",
    "plt.plot(bs.mean(axis = 1)[:-1], label = \"bond\")\n",
    "plt.plot(ks.mean(axis = 1)[:-1], label = \"stock\")\n",
    "plt.plot((hs*pr).mean(axis = 1)[:-1], label = \"housing\")\n",
    "plt.legend()"
   ]
  },
  {
   "cell_type": "code",
   "execution_count": null,
   "metadata": {},
   "outputs": [],
   "source": [
    "plt.plot(ns.mean(axis = 1)[:-1], label = \"401k\")"
   ]
  },
  {
   "cell_type": "code",
   "execution_count": null,
   "metadata": {},
   "outputs": [],
   "source": []
  }
 ],
 "metadata": {
  "environment": {
   "name": "common-cu110.m65",
   "type": "gcloud",
   "uri": "gcr.io/deeplearning-platform-release/base-cu110:m65"
  },
  "kernelspec": {
   "display_name": "Python 3",
   "language": "python",
   "name": "python3"
  },
  "language_info": {
   "codemirror_mode": {
    "name": "ipython",
    "version": 3
   },
   "file_extension": ".py",
   "mimetype": "text/x-python",
   "name": "python",
   "nbconvert_exporter": "python",
   "pygments_lexer": "ipython3",
   "version": "3.7.10"
  }
 },
 "nbformat": 4,
 "nbformat_minor": 4
}
