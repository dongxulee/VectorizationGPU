{
 "cells": [
  {
   "cell_type": "code",
   "execution_count": 1,
   "metadata": {},
   "outputs": [
    {
     "name": "stdout",
     "output_type": "stream",
     "text": [
      "Populating the interactive namespace from numpy and matplotlib\n",
      "env: XLA_PYTHON_CLIENT_ALLOCATOR=platform\n"
     ]
    },
    {
     "data": {
      "text/plain": [
       "<contextlib._GeneratorContextManager at 0x7f75fadb2950>"
      ]
     },
     "execution_count": 1,
     "metadata": {},
     "output_type": "execute_result"
    }
   ],
   "source": [
    "%pylab inline\n",
    "%env XLA_PYTHON_CLIENT_ALLOCATOR=platform\n",
    "from jax.scipy.ndimage import map_coordinates\n",
    "from constant import * \n",
    "import warnings\n",
    "from jax import jit, partial\n",
    "warnings.filterwarnings(\"ignore\")\n",
    "np.printoptions(precision=2)"
   ]
  },
  {
   "cell_type": "markdown",
   "metadata": {},
   "source": [
    "### Value iteration of renting a house\n",
    "\n",
    "$$V_t(w_t,n_{t-1}, s_t, e_t) = max_{\\{c_t, h_t, b_t, k_t\\}}\\{ u(c_t, h_t) + \\beta E[P_t V_{t+1}(w_{t+1}, n_{t},s_{t+1}, e_{t+1}) + (1-P_t) u_B(w_{t+1}, n_{t})]\\}$$\n",
    "Subject to:    \n",
    "$$y_t^{AT} + w_t = c_t + P_t^r h_t + b_t + k_t$$\n",
    "$$ w_{t+1} = (1+r_t^f) b_t + (1+r_{t+1}^m) k_t $$   \n",
    "$$n_t = g(n_{t-1}, x_t)$$\n",
    "\n",
    "Shape of the state: $$(10 \\times 10 \\times 27 \\times 2)$$\n",
    "Shape of the actions: $$(20 \\times 20)$$"
   ]
  },
  {
   "cell_type": "code",
   "execution_count": 2,
   "metadata": {},
   "outputs": [
    {
     "data": {
      "text/plain": [
       "(5400, 4)"
      ]
     },
     "execution_count": 2,
     "metadata": {},
     "output_type": "execute_result"
    }
   ],
   "source": [
    "nX = Xs.shape[0]\n",
    "Xs.shape"
   ]
  },
  {
   "cell_type": "code",
   "execution_count": 3,
   "metadata": {},
   "outputs": [
    {
     "data": {
      "text/plain": [
       "(400, 2)"
      ]
     },
     "execution_count": 3,
     "metadata": {},
     "output_type": "execute_result"
    }
   ],
   "source": [
    "nA = As.shape[0]\n",
    "As.shape"
   ]
  },
  {
   "cell_type": "code",
   "execution_count": 4,
   "metadata": {},
   "outputs": [],
   "source": [
    "X = jnp.repeat(Xs, nA, axis = 0)\n",
    "A = jnp.tile(As, (nX,1))"
   ]
  },
  {
   "cell_type": "code",
   "execution_count": 5,
   "metadata": {},
   "outputs": [
    {
     "data": {
      "text/plain": [
       "(2160000, 2)"
      ]
     },
     "execution_count": 5,
     "metadata": {},
     "output_type": "execute_result"
    }
   ],
   "source": [
    "#(17280000, 2)\n",
    "A.shape"
   ]
  },
  {
   "cell_type": "code",
   "execution_count": 6,
   "metadata": {},
   "outputs": [
    {
     "data": {
      "text/plain": [
       "(2160000, 4)"
      ]
     },
     "execution_count": 6,
     "metadata": {},
     "output_type": "execute_result"
    }
   ],
   "source": [
    "X.shape"
   ]
  },
  {
   "cell_type": "code",
   "execution_count": 7,
   "metadata": {},
   "outputs": [],
   "source": [
    "#Define the earning function, which applies for both employment, 27 states\n",
    "@partial(jit, static_argnums=(0,)) \n",
    "def y(t, x):\n",
    "    if t <= T_R:\n",
    "        return detEarning[t] * (1+gGDP[jnp.array(x[:,2], dtype = jnp.int8)]) * x[:,3] + (1-x[:,3]) * welfare\n",
    "    else:\n",
    "        return detEarning[t] * jnp.ones(X.shape[0])\n",
    "    \n",
    "#Earning after tax and fixed by transaction in and out from 401k account \n",
    "@partial(jit, static_argnums=(0,)) \n",
    "def yAT(t,x):\n",
    "    yt = y(t, x)  \n",
    "    if t <= T_R:\n",
    "        # yi portion of the income will be put into the 401k if employed\n",
    "        return (1-tau_L)*(yt * (1-yi))*x[:,3] + (1-x[:,3])*yt\n",
    "    else:\n",
    "        # t > T_R, n/discounting amount will be withdraw from the 401k \n",
    "        return (1-tau_R)*yt + x[:,1]/Dt[t]\n",
    "    \n",
    "#Define the evolution of the amount in 401k account \n",
    "@partial(jit, static_argnums=(0,)) \n",
    "def gn(t, x, r):\n",
    "    if t <= T_R:\n",
    "        # if the person is employed, then yi portion of his income goes into 401k \n",
    "        n_cur = x[:,1] + y(t, x) * yi * x[:,3]\n",
    "    else:\n",
    "        # t > T_R, n/discounting amount will be withdraw from the 401k \n",
    "        n_cur = x[:,1]  - x[:,1]/Dt[t]\n",
    "        # the 401 grow as the same rate as the stock \n",
    "    return (1+r)*n_cur"
   ]
  },
  {
   "cell_type": "code",
   "execution_count": 12,
   "metadata": {},
   "outputs": [],
   "source": [
    "#Define the utility function\n",
    "@jit\n",
    "def u(c):\n",
    "    return (jnp.power(c, 1-gamma) - 1)/(1 - gamma)\n",
    "\n",
    "#Define the bequeath function, which is a function of wealth\n",
    "@jit\n",
    "def uB(tb):\n",
    "    return B*u(tb)\n",
    "\n",
    "#Reward function for renting\n",
    "@jit\n",
    "def u_rent(a):\n",
    "    '''\n",
    "    Input:\n",
    "        action a: c, b, k, h = a\n",
    "    Output:\n",
    "        reward value: the length of return should be equal to the length of a\n",
    "    '''\n",
    "    c = a[:,0]\n",
    "    h = a[:,3]\n",
    "    C = jnp.power(c, alpha) * jnp.power(h, 1-alpha)\n",
    "    return u(C)\n",
    "\n",
    "@partial(jit, static_argnums=(2,))\n",
    "def transition_to_rent(x,a,t):\n",
    "    '''\n",
    "        imput: a is np array constains all possible actions \n",
    "        output: next time period x = [w, n, s, e]\n",
    "    '''\n",
    "    s = jnp.array(x[:,2], dtype = jnp.int8)\n",
    "    e = jnp.array(x[:,3], dtype = jnp.int8)\n",
    "    # actions taken\n",
    "    b = a[:,1]\n",
    "    k = a[:,2]\n",
    "    w_next = ((1+r_b[s])*b + jnp.outer(k,(1+r_k)).T).T.flatten()\n",
    "    s_next = jnp.tile(jnp.arange(nS),nA*nX)\n",
    "    # growth rate of 401k is an average between stock and bond\n",
    "    n_next = gn(t, X.repeat(nS,axis = 0), (r_b[s].repeat(nS) + r_k[s_next])/2)\n",
    "    pe = Pe[s, e].repeat(nS)\n",
    "    ps = Ps[s].flatten()\n",
    "    prob_next = jnp.column_stack(((1-pe)*ps,pe*ps)).flatten()\n",
    "    e_next = jnp.column_stack((e.repeat(nS),(1-e).repeat(nS))).flatten()\n",
    "    return w_next.repeat(2), n_next.repeat(2), s_next.repeat(2), e_next, prob_next\n",
    "    \n",
    "# used to calculate dot product\n",
    "@jit\n",
    "def dotProduct(p_next, uBTB, t):\n",
    "    return (p_next*uBTB).reshape((p_next.shape[0]//(nS*nE), (nS*nE))).sum(axis = 1)\n",
    "\n",
    "# define approximation of fit\n",
    "@jit\n",
    "def fit(v, w_next, n_next, s_next, e_next):\n",
    "    return map_coordinates(v.reshape(dim),jnp.vstack((w_next/scale,n_next/scale, s_next, e_next)), order = 1, mode = 'nearest')\n",
    "\n",
    "@partial(jit, static_argnums=(0,))\n",
    "def feasibleActions(t):\n",
    "    # x = [w,n,s,e], a = [c,b,k,h]\n",
    "    budget1 = yAT(t,X) + X[:,0]\n",
    "#     h = budget1*A[:,0]/pr\n",
    "#     budget2 = budget1*(1-A[:,0])\n",
    "#     c = budget2*A[:,1]\n",
    "#     budget3 = budget2*(1-A[:,1])\n",
    "#     k = budget3*A[:,2]\n",
    "#     b = budget3*(1-A[:,2])\n",
    "    h = budget1*A[:,0]*0.3/pr\n",
    "    c = budget1*A[:,0]*0.7\n",
    "    budget2 = budget1*(1-A[:,0])\n",
    "    k = budget2*A[:,1]\n",
    "    b = budget2*(1-A[:,1])\n",
    "    return jnp.column_stack((c,b,k,h))"
   ]
  },
  {
   "cell_type": "code",
   "execution_count": 13,
   "metadata": {},
   "outputs": [
    {
     "name": "stdout",
     "output_type": "stream",
     "text": [
      "59\n",
      "58\n",
      "57\n",
      "56\n",
      "55\n",
      "54\n",
      "53\n",
      "52\n",
      "51\n",
      "50\n",
      "49\n",
      "48\n",
      "47\n",
      "46\n",
      "45\n",
      "44\n",
      "43\n",
      "42\n",
      "41\n",
      "40\n",
      "39\n",
      "38\n",
      "37\n",
      "36\n",
      "35\n",
      "34\n",
      "33\n",
      "32\n",
      "31\n",
      "30\n",
      "29\n",
      "28\n",
      "27\n",
      "26\n",
      "25\n",
      "24\n",
      "23\n",
      "22\n",
      "21\n",
      "20\n",
      "19\n",
      "18\n",
      "17\n",
      "16\n",
      "15\n",
      "14\n",
      "13\n",
      "12\n",
      "11\n",
      "10\n",
      "9\n",
      "8\n",
      "7\n",
      "6\n",
      "5\n",
      "4\n",
      "3\n",
      "2\n",
      "1\n",
      "CPU times: user 2min 22s, sys: 15.8 s, total: 2min 38s\n",
      "Wall time: 2min 39s\n"
     ]
    }
   ],
   "source": [
    "%%time\n",
    "for t in range(T_max-1,T_min, -1):\n",
    "    print(t)\n",
    "    actions = feasibleActions(t)\n",
    "    # if right before the terminal state \n",
    "    if t == T_max - 1:\n",
    "        w_next, n_next, s_next, e_next, prob_next = transition_to_rent(X,actions,t)\n",
    "        Q = u_rent(actions) + beta * dotProduct(prob_next, uB(w_next+n_next),t)\n",
    "        V = Q.reshape(nX,nA).max(axis = 1)\n",
    "        cbkh = actions[:nA][Q.reshape(nX,nA).argmax(axis = 1)]\n",
    "    else:\n",
    "        w_next, n_next, s_next, e_next, prob_next = transition_to_rent(X,actions,t)\n",
    "        Q = u_rent(actions) + beta * dotProduct(prob_next, Pa[t] * \n",
    "                                                fit(V, w_next, n_next, s_next, e_next)\n",
    "                                                + (1-Pa[t]) * uB(w_next+n_next), t)\n",
    "        V = Q.reshape(nX,nA).max(axis = 1)\n",
    "        cbkh = actions[:nA][Q.reshape(nX,nA).argmax(axis = 1)]\n",
    "        \n",
    "    Vgrid[:,:,:,:,t] = V.reshape(dim)\n",
    "    cgrid[:,:,:,:,t] = cbkh[:,0].reshape(dim)\n",
    "    bgrid[:,:,:,:,t] = cbkh[:,1].reshape(dim)\n",
    "    kgrid[:,:,:,:,t] = cbkh[:,2].reshape(dim)\n",
    "    hgrid[:,:,:,:,t] = cbkh[:,3].reshape(dim)"
   ]
  },
  {
   "cell_type": "code",
   "execution_count": 18,
   "metadata": {},
   "outputs": [
    {
     "data": {
      "text/plain": [
       "<matplotlib.legend.Legend at 0x7f75e003c250>"
      ]
     },
     "execution_count": 18,
     "metadata": {},
     "output_type": "execute_result"
    },
    {
     "data": {
      "image/png": "[encoded data removed]",
      "text/plain": [
       "<Figure size 864x432 with 1 Axes>"
      ]
     },
     "metadata": {
      "needs_background": "light"
     },
     "output_type": "display_data"
    }
   ],
   "source": [
    "# plot consumption against time \n",
    "wealthLevel = 5\n",
    "retirement = 5\n",
    "econState = 5\n",
    "employ = 1\n",
    "plt.figure(figsize = [12,6])\n",
    "plt.plot(cgrid[wealthLevel,retirement,econState,employ,:], label = \"consumption\")\n",
    "plt.plot(bgrid[wealthLevel,retirement,econState,employ,:], label = \"bond\")\n",
    "plt.plot(kgrid[wealthLevel,retirement,econState,employ,:], label = \"stock\")\n",
    "plt.plot(hgrid[wealthLevel,retirement,econState,employ,:]*pr, label = \"housing\")\n",
    "legend()"
   ]
  },
  {
   "cell_type": "code",
   "execution_count": 19,
   "metadata": {},
   "outputs": [
    {
     "data": {
      "text/plain": [
       "<matplotlib.legend.Legend at 0x7f75c87aa850>"
      ]
     },
     "execution_count": 19,
     "metadata": {},
     "output_type": "execute_result"
    },
    {
     "data": {
      "image/png": "[encoded data removed]",
      "text/plain": [
       "<Figure size 864x432 with 1 Axes>"
      ]
     },
     "metadata": {
      "needs_background": "light"
     },
     "output_type": "display_data"
    }
   ],
   "source": [
    "# plot consumption against time \n",
    "wealthLevel = 5\n",
    "retirement = 5\n",
    "econState = 5\n",
    "employ = 0\n",
    "plt.figure(figsize = [12,6])\n",
    "plt.plot(cgrid[wealthLevel,retirement,econState,employ,:], label = \"consumption\")\n",
    "plt.plot(bgrid[wealthLevel,retirement,econState,employ,:], label = \"bond\")\n",
    "plt.plot(kgrid[wealthLevel,retirement,econState,employ,:], label = \"stock\")\n",
    "plt.plot(hgrid[wealthLevel,retirement,econState,employ,:]*pr, label = \"housing\")\n",
    "legend()"
   ]
  },
  {
   "cell_type": "code",
   "execution_count": 17,
   "metadata": {},
   "outputs": [],
   "source": [
    "np.save('cgrid',cgrid)\n",
    "np.save('bgrid',bgrid)\n",
    "np.save('kgrid',kgrid)\n",
    "np.save('hgrid',hgrid)"
   ]
  },
  {
   "cell_type": "code",
   "execution_count": null,
   "metadata": {},
   "outputs": [],
   "source": []
  },
  {
   "cell_type": "code",
   "execution_count": null,
   "metadata": {},
   "outputs": [],
   "source": []
  }
 ],
 "metadata": {
  "environment": {
   "name": "common-cu110.m65",
   "type": "gcloud",
   "uri": "gcr.io/deeplearning-platform-release/base-cu110:m65"
  },
  "kernelspec": {
   "display_name": "Python 3",
   "language": "python",
   "name": "python3"
  },
  "language_info": {
   "codemirror_mode": {
    "name": "ipython",
    "version": 3
   },
   "file_extension": ".py",
   "mimetype": "text/x-python",
   "name": "python",
   "nbconvert_exporter": "python",
   "pygments_lexer": "ipython3",
   "version": "3.7.10"
  }
 },
 "nbformat": 4,
 "nbformat_minor": 4
}
